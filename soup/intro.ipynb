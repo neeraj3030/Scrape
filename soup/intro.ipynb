{
 "cells": [
  {
   "cell_type": "code",
   "execution_count": null,
   "metadata": {},
   "outputs": [],
   "source": [
    "import bs4 as bs\n",
    "import urllib.request\n"
   ]
  },
  {
   "cell_type": "code",
   "execution_count": null,
   "metadata": {},
   "outputs": [],
   "source": [
    "\n",
    "sauce=urllib.request.urlopen('https://pythonprogramming.net/parsememcparseface/').read()\n",
    "soup=bs.BeautifulSoup(sauce,'lxml')\n",
    "\n",
    "#print(sauce)  page source\n",
    "#print(soup)\n",
    "\n",
    "\n",
    "print(soup.title.name)\n",
    "print(soup.title)\n",
    "print(soup.title.string)\n",
    "print(soup.title.text)\n",
    "\n",
    "#print(soup.p)\n",
    "#print(soup.find_all('p'))\n",
    "\n",
    "#for paragraph in soup.find_all('p'):\n",
    "    #print(paragraph.string)  #returns None in case of child tags\n",
    "    #print(paragraph.text)\n",
    "\n",
    "#print(soup.get_text())    \n",
    "#print(soup.find_all('pre'))    parameters must be tagname \n",
    "\n",
    "'''to get all links in body of page'''\n",
    "\n",
    "for url in soup.find_all('a'):\n",
    "    print(url.get('href'))\n",
    "    "
   ]
  },
  {
   "cell_type": "code",
   "execution_count": null,
   "metadata": {},
   "outputs": [],
   "source": [
    "'''links in navbar '''\n",
    "nav=soup.nav\n",
    "\n",
    "for url in nav.find_all('a'):\n",
    "    print(url.get('href'))\n",
    "    \n",
    "    "
   ]
  },
  {
   "cell_type": "code",
   "execution_count": null,
   "metadata": {},
   "outputs": [],
   "source": [
    "body=soup.body\n",
    "for paragraph in body.find_all('p'):\n",
    "    print(paragraph.text)"
   ]
  },
  {
   "cell_type": "code",
   "execution_count": null,
   "metadata": {},
   "outputs": [],
   "source": [
    "for div in soup.find_all('div',class_='body'):\n",
    "    print(div.text)"
   ]
  },
  {
   "cell_type": "code",
   "execution_count": null,
   "metadata": {},
   "outputs": [],
   "source": [
    "table=soup.table\n",
    "table=soup.find('table')\n",
    "print(table)\n",
    "table_rows=soup.find_all('tr')\n",
    "for tr in table_rows: \n",
    "    td=tr.find_all('td')\n",
    "    rows=[i.text for i in td]\n",
    "    print(rows)\n",
    "    \n",
    "    \n",
    "    "
   ]
  },
  {
   "cell_type": "code",
   "execution_count": null,
   "metadata": {},
   "outputs": [],
   "source": [
    "'''for xml pages'''\n",
    "\n",
    "\n",
    "sauce=urllib.request.urlopen('https://pythonprogramming.net/sitemap.xml').read()\n",
    "soup=bs.BeautifulSoup(sauce,'xml')\n",
    "\n",
    "for url in soup.find_all('loc'):\n",
    "    print(url.text)\n",
    "\n",
    "\n",
    "source = urllib.request.urlopen('https://pythonprogramming.net/parsememcparseface/')\n",
    "soup = bs.BeautifulSoup(source,'lxml')\n",
    "\n",
    "js_test = soup.find('p', class_='jstest')\n",
    "\n",
    "print(js_test.text)\n",
    "\n"
   ]
  },
  {
   "cell_type": "code",
   "execution_count": null,
   "metadata": {},
   "outputs": [],
   "source": [
    "import sys\n",
    "from PyQt5.QtWidgets import QApplication\n",
    "from PyQt5.QtCore import QUrl\n",
    "from PyQt5.QtWebKitWidgets import QWebPage\n",
    "import bs4 as bs\n",
    "import urllib.request\n",
    "\n",
    "class Client(QWebPage):\n",
    "\n",
    "    def __init__(self, url):\n",
    "        self.app = QApplication(sys.argv)\n",
    "        QWebPage.__init__(self)\n",
    "        self.loadFinished.connect(self.on_page_load)\n",
    "        self.mainFrame().load(QUrl(url))\n",
    "        self.app.exec_()\n",
    "        \n",
    "    def on_page_load(self):\n",
    "        self.app.quit()\n",
    "        \n",
    "url = 'https://pythonprogramming.net/parsememcparseface/'\n",
    "client_response = Client(url)\n",
    "source = client_response.mainFrame().toHtml()\n",
    "soup = bs.BeautifulSoup(source, 'lxml')\n",
    "js_test = soup.find('p', class_='jstest')\n",
    "print(js_test.text)"
   ]
  },
  {
   "cell_type": "code",
   "execution_count": null,
   "metadata": {},
   "outputs": [],
   "source": []
  },
  {
   "cell_type": "code",
   "execution_count": null,
   "metadata": {},
   "outputs": [],
   "source": []
  }
 ],
 "metadata": {
  "kernelspec": {
   "display_name": "Python 3",
   "language": "python",
   "name": "python3"
  },
  "language_info": {
   "codemirror_mode": {
    "name": "ipython",
    "version": 3
   },
   "file_extension": ".py",
   "mimetype": "text/x-python",
   "name": "python",
   "nbconvert_exporter": "python",
   "pygments_lexer": "ipython3",
   "version": "3.6.5"
  }
 },
 "nbformat": 4,
 "nbformat_minor": 2
}
