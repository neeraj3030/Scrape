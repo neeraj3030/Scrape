{
 "cells": [
  {
   "cell_type": "code",
   "execution_count": null,
   "metadata": {},
   "outputs": [],
   "source": [
    "'''\n",
    "Identifiers:\n",
    "\\d   any number\n",
    "\n",
    "\\D  anything but a number\n",
    "\\s\tspace\n",
    "\n",
    "\\s anything but a space\n",
    "\\w  any character\n",
    "\\W anything but a character\n",
    ".\tany character , except for a new line\n",
    "\n",
    "\\b \tthe whitespace around words\n",
    "\\.   a period\n",
    "\n",
    "Modifiers:\n",
    "{1,3}  we 'r expecting 1-3 \\d{1-3} \n",
    "+\tmatch 1 or more\n",
    "?\tmatch 0 or 1\n",
    "*\tmatch 0 or more\n",
    "$   match end of the string\n",
    "^   match the beginning of the string\n",
    "|\teither or\t\\d{1-3} | {5-6}\n",
    "[]\trange or 'variance'\n",
    "{x}\texpecting 'x' amount\n",
    "\n",
    "\n",
    "whitespace characters:\n",
    "\\n new line\n",
    "\\s space\n",
    "\\t tab\n",
    "\\e escape\n",
    "\\f form feed\n",
    "\\r carriage return \n",
    " \n",
    "\n",
    "'''\n"
   ]
  },
  {
   "cell_type": "code",
   "execution_count": 8,
   "metadata": {},
   "outputs": [
    {
     "name": "stdout",
     "output_type": "stream",
     "text": [
      "['24', '21', '24']\n",
      "['Justin', 'Araina', 'Selena']\n",
      "{'Justin': '24', 'Araina': '21', 'Selena': '24'}\n"
     ]
    }
   ],
   "source": [
    "\n",
    "import re\n",
    "\n",
    "example='''Justin is only 24 years old\n",
    "\n",
    "and Araina is 21 years old while Selena is 24 years old'''\n",
    "\n",
    "\n",
    "ages=re.findall(r'\\d{1,3}',example)\n",
    "names=re.findall(r'[A-Z][a-z]*',example)\n",
    "\n",
    "demo=dict()\n",
    "x=0\n",
    "for name in names:\n",
    "    demo[name]=ages[x]\n",
    "    x=x+1\n",
    "\n",
    "\n",
    "print(ages)\n",
    "print(names)\n",
    "print(demo)\n",
    "\n"
   ]
  },
  {
   "cell_type": "code",
   "execution_count": null,
   "metadata": {},
   "outputs": [],
   "source": []
  },
  {
   "cell_type": "code",
   "execution_count": null,
   "metadata": {},
   "outputs": [],
   "source": []
  },
  {
   "cell_type": "code",
   "execution_count": null,
   "metadata": {},
   "outputs": [],
   "source": []
  },
  {
   "cell_type": "code",
   "execution_count": null,
   "metadata": {},
   "outputs": [],
   "source": []
  },
  {
   "cell_type": "code",
   "execution_count": null,
   "metadata": {},
   "outputs": [],
   "source": []
  },
  {
   "cell_type": "code",
   "execution_count": null,
   "metadata": {},
   "outputs": [],
   "source": []
  }
 ],
 "metadata": {
  "kernelspec": {
   "display_name": "Python 3",
   "language": "python",
   "name": "python3"
  },
  "language_info": {
   "codemirror_mode": {
    "name": "ipython",
    "version": 3
   },
   "file_extension": ".py",
   "mimetype": "text/x-python",
   "name": "python",
   "nbconvert_exporter": "python",
   "pygments_lexer": "ipython3",
   "version": "3.6.5"
  }
 },
 "nbformat": 4,
 "nbformat_minor": 2
}
