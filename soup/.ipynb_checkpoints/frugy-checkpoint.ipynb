{
 "cells": [
  {
   "cell_type": "code",
   "execution_count": null,
   "metadata": {},
   "outputs": [],
   "source": [
    "import bs4 as bs\n",
    "import urllib.request\n",
    "import re\n",
    "import json\n"
   ]
  },
  {
   "cell_type": "code",
   "execution_count": null,
   "metadata": {},
   "outputs": [],
   "source": [
    "\n",
    "#price=<span class=\"a-size-medium a-color-price inlineBlock-display offer-price a-text-normal price3P\"><span class=\"currencyINR\">&nbsp;&nbsp;</span> 75.00</span>\n",
    "\n",
    "images = soup.find_all('img', {'src':re.compile('.jpg')})\n",
    "for image in images: \n",
    "    print(image['src']+'\\n')\n",
    "\n",
    "#for img in soup.find_all('img'):\n",
    "#    print(img.get('src'))"
   ]
  },
  {
   "cell_type": "code",
   "execution_count": null,
   "metadata": {},
   "outputs": [],
   "source": [
    "def read_asin(): \n",
    "    #Change the list below with the ASINs you want to track. \n",
    "    AsinList = ['B0046UR4F4', 'B00JGTVU5A', 'B00GJYCIVK', 'B00EPGK7CQ', 'B00EPGKA4G', 'B00YW5DLB4', 'B00KGD0628', 'B00O9A48N2', 'B00O9A4MEW', 'B00UZKG8QU',] \n",
    "    extracted_data = [] \n",
    "    for i in AsinList: \n",
    "        url = \"http://www.amazon.com/dp/B0046UR4F4\"\n",
    "\n",
    "        sauce=urllib.request.urlopen(url).read()\n",
    "        soup=bs.BeautifulSoup(sauce,'lxml')\n",
    "        extracted_data.append(soup(url)) #sleep(5) #Save the collected data into a json file. \n",
    "        f=open('data.json','w') \n",
    "        json.dump(extracted_data,f,indent=4)\n",
    "        \n",
    "        \n",
    "#read_asin()       \n",
    "url = \"http://www.amazon.com/dp/B0046UR4F4\"\n",
    "\n",
    "sauce=urllib.request.urlopen(url).read()\n",
    "soup=bs.BeautifulSoup(sauce,'lxml')\n",
    "print(soup)\n",
    "\n",
    "\n"
   ]
  }
 ],
 "metadata": {
  "kernelspec": {
   "display_name": "Python 3",
   "language": "python",
   "name": "python3"
  },
  "language_info": {
   "codemirror_mode": {
    "name": "ipython",
    "version": 3
   },
   "file_extension": ".py",
   "mimetype": "text/x-python",
   "name": "python",
   "nbconvert_exporter": "python",
   "pygments_lexer": "ipython3",
   "version": "3.6.5"
  }
 },
 "nbformat": 4,
 "nbformat_minor": 2
}
